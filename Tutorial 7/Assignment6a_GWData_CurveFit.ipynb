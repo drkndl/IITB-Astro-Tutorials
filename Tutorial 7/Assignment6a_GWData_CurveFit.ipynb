{
 "cells": [
  {
   "cell_type": "code",
   "execution_count": 82,
   "metadata": {},
   "outputs": [],
   "source": [
    "import numpy as np\n",
    "import matplotlib.pyplot as plt\n",
    "import pandas\n",
    "from scipy.optimize import curve_fit as cf"
   ]
  },
  {
   "cell_type": "code",
   "execution_count": 83,
   "metadata": {},
   "outputs": [],
   "source": [
    "# Creating the model, fitting a linear equation\n",
    "\n",
    "def GW(t, m, c):\n",
    "    return m*t + c"
   ]
  },
  {
   "cell_type": "code",
   "execution_count": 85,
   "metadata": {},
   "outputs": [],
   "source": [
    "# Loading the CSV file data\n",
    "\n",
    "data, freq, time = np.loadtxt('GW_data_file.csv',delimiter=',')\n",
    "\n",
    "# Obtaining the zero indices\n",
    "\n",
    "zero_indices=[]\n",
    "\n",
    "for i in range(len(data)-1):\n",
    "    if data[i]==0 and data[i+1]!=0:\n",
    "        zero_indices.append(i)\n",
    "    elif (data[i]>0 and data[i+1]<0) or (data[i]<0 and data[i+1]>0):\n",
    "        zero_indices.append(i)\n",
    "    elif data[i]==0 and data[i+1]==0:\n",
    "        zero_indices.append(i)\n",
    "        i=i+1\n",
    "\n",
    "# Getting frequency greater than 50 Hz\n",
    "\n",
    "freq50 = []\n",
    "time50 = []\n",
    "for f in zero_indices:\n",
    "    if freq[f]>50:\n",
    "        freq50.append(freq[f])\n",
    "        time50.append(time[f])\n",
    "\n",
    "# Removing frequencies after tc\n",
    "\n",
    "for t in range(len(time50)):\n",
    "    if time50[t] > 0:\n",
    "        i = t     # index where time crosses tc\n",
    "        break\n",
    "        \n",
    "final_f = freq50[0:i]\n",
    "final_t = time50[0:i]\n",
    "\n",
    "xdata = np.log(abs(np.asarray(final_t)))\n",
    "ydata = np.log(abs(np.asarray(final_f)))"
   ]
  },
  {
   "cell_type": "code",
   "execution_count": 86,
   "metadata": {},
   "outputs": [],
   "source": [
    "# Fitting the curve for these values\n",
    "\n",
    "p_opt, p_cov = cf(GW, xdata, ydata)\n",
    "y_new = GW(xdata, *p_opt)"
   ]
  },
  {
   "cell_type": "code",
   "execution_count": 87,
   "metadata": {},
   "outputs": [
    {
     "data": {
      "text/plain": [
       "<matplotlib.legend.Legend at 0x12629c1ce08>"
      ]
     },
     "execution_count": 87,
     "metadata": {},
     "output_type": "execute_result"
    },
    {
     "data": {
      "image/png": "[encoded data removed]",
      "text/plain": [
       "<Figure size 432x288 with 1 Axes>"
      ]
     },
     "metadata": {
      "needs_background": "light"
     },
     "output_type": "display_data"
    }
   ],
   "source": [
    "# Plotting the values\n",
    "\n",
    "plt.scatter(xdata, ydata)\n",
    "plt.plot(xdata, y_new, label='Best Fit', color='red')\n",
    "plt.xlabel('log(time)')\n",
    "plt.ylabel('log(freq)')\n",
    "plt.legend()"
   ]
  },
  {
   "cell_type": "code",
   "execution_count": 88,
   "metadata": {},
   "outputs": [
    {
     "name": "stdout",
     "output_type": "stream",
     "text": [
      "[-0.23238806  3.41356699]\n"
     ]
    }
   ],
   "source": [
    "# Printing the optimized parameters\n",
    "\n",
    "print(p_opt)"
   ]
  }
 ],
 "metadata": {
  "kernelspec": {
   "display_name": "Python 3",
   "language": "python",
   "name": "python3"
  },
  "language_info": {
   "codemirror_mode": {
    "name": "ipython",
    "version": 3
   },
   "file_extension": ".py",
   "mimetype": "text/x-python",
   "name": "python",
   "nbconvert_exporter": "python",
   "pygments_lexer": "ipython3",
   "version": "3.7.6"
  }
 },
 "nbformat": 4,
 "nbformat_minor": 4
}
