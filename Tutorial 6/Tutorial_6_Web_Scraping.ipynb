{
  "nbformat": 4,
  "nbformat_minor": 0,
  "metadata": {
    "colab": {
      "name": "Tutorial 6 - Web Scraping.ipynb",
      "provenance": []
    },
    "kernelspec": {
      "name": "python3",
      "display_name": "Python 3"
    }
  },
  "cells": [
    {
      "cell_type": "code",
      "metadata": {
        "id": "21Rf8dhIgTlU",
        "colab_type": "code",
        "colab": {
          "base_uri": "https://localhost:8080/",
          "height": 54
        },
        "outputId": "60637acb-6a56-4743-e167-098866eeed97"
      },
      "source": [
        "import requests\n",
        "from bs4 import BeautifulSoup\n",
        "page=requests.get(\"https://fathimazarin.github.io/simple.html\")\n",
        "page\n",
        "page.content\n",
        "soup=BeautifulSoup(page.content, 'html.parser')\n",
        "#print(soup)\n",
        "#print(soup.prettify())\n",
        "soup.find('p')\n",
        "soup.find_all('p')\n",
        "soup.find_all('p')[0].get_text()\n",
        "soup.find_all('p')[1].get_text() #the \\n remains as is\n",
        "#print(soup.find_all('p')[1].get_text()) #the \\n is taken care of, as part of formatting\n",
        "\n",
        "drishika=soup.find_all('p')[1]\n",
        "drishika\n",
        "drishika.find_all('a')[0].get_text()\n",
        "\n",
        "krittika=soup.find_all('p')[1].get_text()\n",
        "krittika.replace('\\n','')\n",
        "\n",
        "#Finding by Class and ID\n",
        "soup.find_all('p', attrs={\"class\":\"neat\"})\n",
        "soup.find_all('p', attrs={\"class\":\"very-neat\"})\n",
        "soup.find_all(id=\"very-very-neat\")\n",
        "\n",
        "#Using an actual web page\n",
        "pages=requests.get(\"https://en.wikipedia.org/wiki/Lists_of_stars_by_constellation\")\n",
        "pages.content\n",
        "soups=BeautifulSoup(pages.content, 'html.parser')\n",
        "soups\n",
        "\n",
        "my_list=[]\n",
        "for item in soups.find_all('li')[5:93]:\n",
        "  my_list.append(item.get_text())\n",
        "print(my_list)"
      ],
      "execution_count": null,
      "outputs": [
        {
          "output_type": "stream",
          "text": [
            "['Andromeda', 'Antlia', 'Apus', 'Aquarius', 'Aquila', 'Ara', 'Aries', 'Auriga', 'Boötes', 'Caelum', 'Camelopardalis', 'Cancer', 'Canes Venatici', 'Canis Major', 'Canis Minor', 'Capricornus', 'Carina', 'Cassiopeia', 'Centaurus', 'Cepheus', 'Cetus', 'Chamaeleon ', 'Circinus', 'Columba', 'Coma Berenices', 'Corona Australis', 'Corona Borealis', 'Corvus', 'Crater', 'Crux', 'Cygnus', 'Delphinus', 'Dorado', 'Draco', 'Equuleus', 'Eridanus', 'Fornax', 'Gemini', 'Grus', 'Hercules', 'Horologium', 'Hydra', 'Hydrus', 'Indus ', 'Lacerta', 'Leo', 'Leo Minor', 'Lepus', 'Libra', 'Lupus', 'Lynx', 'Lyra', 'Mensa', 'Microscopium', 'Monoceros', 'Musca', 'Norma', 'Octans', 'Ophiuchus', 'Orion', 'Pavo', 'Pegasus', 'Perseus', 'Phoenix', 'Pictor', 'Pisces ', 'Piscis Austrinus', 'Puppis', 'Pyxis', 'Reticulum', 'Sagitta', 'Sagittarius', 'Scorpius', 'Sculptor', 'Scutum', 'Serpens', 'Sextans', 'Taurus', 'Telescopium', 'Triangulum', 'Triangulum Australe', 'Tucana', 'Ursa Major', 'Ursa Minor', 'Vela', 'Virgo', 'Volans', 'Vulpecula ']\n"
          ],
          "name": "stdout"
        }
      ]
    }
  ]
}
