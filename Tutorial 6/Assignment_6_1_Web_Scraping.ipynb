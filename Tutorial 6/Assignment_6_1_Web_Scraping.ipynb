{
  "nbformat": 4,
  "nbformat_minor": 0,
  "metadata": {
    "colab": {
      "name": "Assignment 6.1 - Web Scraping.ipynb",
      "provenance": []
    },
    "kernelspec": {
      "name": "python3",
      "display_name": "Python 3"
    }
  },
  "cells": [
    {
      "cell_type": "code",
      "metadata": {
        "id": "OFPK5vMbop8V",
        "colab_type": "code",
        "colab": {
          "base_uri": "https://localhost:8080/",
          "height": 34
        },
        "outputId": "26ec59fd-449e-4eac-ef89-a014afea78e8"
      },
      "source": [
        "import requests\n",
        "from bs4 import BeautifulSoup\n",
        "import numpy as np\n",
        "import matplotlib.pyplot as plt\n",
        "page=requests.get(\"https://en.wikipedia.org/wiki/Lists_of_stars_by_constellation\")\n",
        "page.content\n",
        "soup=BeautifulSoup(page.content, 'html.parser')\n",
        "soup\n",
        "tab=soup.find_all('table',attrs={'class':'wikitable sortable'})\n",
        "print(tab)\n",
        "\n",
        "def get_coords(ra_s, dec_s):\n",
        "    h_ind = ra_s.find('h')\n",
        "    m_ind = ra_s.find('m')\n",
        "    s_ind = ra_s.find('s')    \n",
        "    h = float(ra_s[:h_ind])\n",
        "    m = float(ra_s[(h_ind+1):m_ind])\n",
        "    s = float(ra_s[(m_ind+1):s_ind])\n",
        "    ra = h + m/60 + s/3600\n",
        "    if dec_s[0] == '+':\n",
        "        sign = 1\n",
        "    else:\n",
        "        sign = -1\n",
        "    d_ind = dec_s.find('°')\n",
        "    m_ind = dec_s.find('′')\n",
        "    s_ind = dec_s.find('″')\n",
        "    d = float(dec_s[1:d_ind])\n",
        "    m = float(dec_s[(d_ind+1):m_ind])\n",
        "    s = float(dec_s[(m_ind+1):s_ind])\n",
        "    dec = sign*(d + m/60 + s/3600)\n",
        "    return ra, dec\n",
        "\n",
        "def get_map(constellation):\n",
        "    url = f'https://en.wikipedia.org/wiki/List_of_stars_in_{constellation}' #page gets downloaded according to constellation\n",
        "    r = requests.get(url)\n",
        "\n",
        "    soup = BeautifulSoup(r.content, 'lxml')  #Here, the lxml parser is used instead of HTML parser\n",
        "\n",
        "    tab = soup.find_all('table', attrs={'class':'wikitable sortable'})[0]   #To extract information from a wikipedia table\n",
        "                               \n",
        "    data = [[]]\n",
        "    for i in tab.find_all('tr'):   #searching in each row of the table ( 'tr' tag stands for row)\n",
        "        row = []                    #declaring empty row\n",
        "        for j in i.find_all('td'):  #'td' tag stands for a cell\n",
        "            row.append(j.get_text())   #add the text contents of each row to the list\n",
        "        data.append(row)\n",
        "\n",
        "    heads = []\n",
        "    for i in tab.find_all('tr')[:1]:\n",
        "        for j in i.find_all('th'):             #'th' tag stands for header cell\n",
        "            heads.append(j.get_text().strip('\\n'))\n",
        "\n",
        "    name_ind = heads.index('Name')\n",
        "    ra_ind = heads.index('RA')\n",
        "    dec_ind = heads.index('Dec')\n",
        "                                  \n",
        "    mag_ind = heads.index('vis.mag.')\n",
        "    \n",
        "    name = []\n",
        "    ra = []\n",
        "    dec = []\n",
        "    mag = []\n",
        "    for i in data[2:-2]:\n",
        "        name_string = i[name_ind]\n",
        "        try:                                             #The code first tries to run the code inside try\n",
        "            ra_string = i[ra_ind].replace('\\xa0', '')\n",
        "            dec_string = i[dec_ind].replace('\\xa0', '')   #These are code used to format the data\n",
        "            mag_string = i[mag_ind]                       \n",
        "            if mag_string[0]=='−':\n",
        "                mag_string = '-'+mag_string[1:]\n",
        "        except:                                       #If any error gets thrown up, it will execute the code inside except\n",
        "            continue\n",
        "        try:\n",
        "            ra_i, dec_i = get_coords(ra_string, dec_string)     #convert ra dec from string to float\n",
        "        except:\n",
        "            continue\n",
        "        try:\n",
        "            mag.append(float(mag_string))\n",
        "            name.append(name_string)\n",
        "            ra.append(ra_i)\n",
        "            dec.append(dec_i)\n",
        "        except:\n",
        "            continue\n",
        "\n",
        "    name = np.array(name)\n",
        "    ra = np.array(ra)\n",
        "    dec = np.array(dec)\n",
        "    mag = np.array(mag)\n",
        "    return name, ra, dec, mag\n"
      ],
      "execution_count": null,
      "outputs": [
        {
          "output_type": "stream",
          "text": [
            "[]\n"
          ],
          "name": "stdout"
        }
      ]
    }
  ]
}
