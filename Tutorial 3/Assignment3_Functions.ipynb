{
  "nbformat": 4,
  "nbformat_minor": 0,
  "metadata": {
    "colab": {
      "name": "Assignment3-Functions.ipynb",
      "provenance": [],
      "authorship_tag": "ABX9TyMHSHwdP3BVxFmV/YhR5eCs",
      "include_colab_link": true
    },
    "kernelspec": {
      "name": "python3",
      "display_name": "Python 3"
    }
  },
  "cells": [
    {
      "cell_type": "markdown",
      "metadata": {
        "id": "view-in-github",
        "colab_type": "text"
      },
      "source": [
        "<a href=\"https://colab.research.google.com/github/Drishika-Nadella/Krittika-IITB-Assignments/blob/master/Assignment3_Functions.ipynb\" target=\"_parent\"><img src=\"https://colab.research.google.com/assets/colab-badge.svg\" alt=\"Open In Colab\"/></a>"
      ]
    },
    {
      "cell_type": "code",
      "metadata": {
        "id": "EczTtOJ00GqU",
        "colab_type": "code",
        "outputId": "3908bd06-3d63-48aa-d093-41b14f5ee9a4",
        "colab": {
          "base_uri": "https://localhost:8080/",
          "height": 238
        }
      },
      "source": [
        "import numpy as np\n",
        "import pandas as pd\n",
        "import math\n",
        "url=\"https://raw.githubusercontent.com/krittikaiitb/tutorials/2878a43df2b210fa5cb15aff2b1efa68d5478439/Tutorial_3/galaxies.csv\"\n",
        "df = pd.read_csv(url)\n",
        "print(df.head())\n",
        "H=70\n",
        "c=3*(10**5)\n",
        "\n",
        "#Finding distance to a galaxy\n",
        "def distance(serial):\n",
        "  result=df.loc[df[\"# mangaid\"]==serial]\n",
        "  #return float(result[\"redshift\"].to_string(index=False))*c/H\n",
        "  return result[\"redshift\"]*c/H\n",
        "user_wants=input(\"Enter the serial no.: \")\n",
        "print(distance(int(user_wants)))\n",
        "\n",
        "#Number of galaxies observed\n",
        "def number_gal(val1,val2):\n",
        "  fin_list=list()\n",
        "  my_list=list(distance(df[\"# mangaid\"]))\n",
        "  for item in my_list:\n",
        "    if np.logical_and(item>=val1,item<=val2):\n",
        "      fin_list.append(item)\n",
        "  print(len(fin_list))\n",
        "number_gal(200,210)\n",
        "\n",
        "#Physical separation between 2 galaxies\n",
        "def separation(se1,se2):\n",
        "  result1=df.loc[df[\"# mangaid\"]==se1]\n",
        "  dec1=float(result1[\"objdec\"].to_string(index=False))\n",
        "  dec11=dec1*np.pi/180.0\n",
        "  ra1=float(result1[\"objra\"].to_string(index=False))\n",
        "  ra11=ra1*np.pi/180.0\n",
        "  result2=df.loc[df[\"# mangaid\"]==se2]\n",
        "  dec2=float(result2[\"objdec\"].to_string(index=False))\n",
        "  dec22=dec2*np.pi/180.0\n",
        "  ra2=float(result2[\"objra\"].to_string(index=False))\n",
        "  ra22=ra2*np.pi/180.0\n",
        "  final=np.sin(dec11)*np.sin(dec22)+np.cos(dec11)*np.cos(dec22)*np.cos(ra11-ra22)\n",
        "  side1=float(distance(se1).to_string(index=False))\n",
        "  side2=float(distance(se2).to_string(index=False))\n",
        "  return (side1**2+side2**2-2*side1*side2*final)**0.5\n",
        "\n",
        "num1=input(\"Enter serial no. 1: \")\n",
        "n1=int(num1)\n",
        "num2=input(\"Enter serial no. 2: \")\n",
        "n2=int(num2)\n",
        "separation(n1,n2)\n"
      ],
      "execution_count": 0,
      "outputs": [
        {
          "output_type": "stream",
          "text": [
            "   # mangaid      objra     objdec  redshift\n",
            "0          1  133.37110  57.598427  0.039515\n",
            "1          2  133.68567  57.480250  0.041056\n",
            "2          3  136.01717  57.092330  0.046571\n",
            "3          4  133.98996  57.677967  0.014351\n",
            "4          5  136.75137  57.451435  0.046406\n",
            "Enter the serial no.: 1000\n",
            "999    160.183997\n",
            "Name: redshift, dtype: float64\n",
            "118\n",
            "Enter serial no. 1: 1000\n",
            "Enter serial no. 2: 2000\n"
          ],
          "name": "stdout"
        },
        {
          "output_type": "execute_result",
          "data": {
            "text/plain": [
              "169.98296087273417"
            ]
          },
          "metadata": {
            "tags": []
          },
          "execution_count": 75
        }
      ]
    }
  ]
}
