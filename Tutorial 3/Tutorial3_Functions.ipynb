{
  "nbformat": 4,
  "nbformat_minor": 0,
  "metadata": {
    "colab": {
      "name": "Tutorial3 - Functions.ipynb",
      "provenance": [],
      "authorship_tag": "ABX9TyMJ+gHOCnwAE51QPk5gYtq5",
      "include_colab_link": true
    },
    "kernelspec": {
      "name": "python3",
      "display_name": "Python 3"
    }
  },
  "cells": [
    {
      "cell_type": "markdown",
      "metadata": {
        "id": "view-in-github",
        "colab_type": "text"
      },
      "source": [
        "<a href=\"https://colab.research.google.com/github/Drishika-Nadella/Krittika-IITB-Assignments/blob/master/Tutorial3_Functions.ipynb\" target=\"_parent\"><img src=\"https://colab.research.google.com/assets/colab-badge.svg\" alt=\"Open In Colab\"/></a>"
      ]
    },
    {
      "cell_type": "code",
      "metadata": {
        "id": "N3WZh8VnnC7r",
        "colab_type": "code",
        "outputId": "5fbec8b3-cd09-4457-897f-13b391f3d499",
        "colab": {
          "base_uri": "https://localhost:8080/",
          "height": 391
        }
      },
      "source": [
        "import numpy as np\n",
        "print(\"sin(pi/2) is \", np.sin(np.pi/2))\n",
        "print(\"Exponential function is \",np.exp(1))\n",
        "s=np.arange(20)\n",
        "print(np.mean(s))\n",
        "print(np.sum(s))\n",
        "\n",
        "def print_name():\n",
        "  \"\"\"\n",
        "  this is supposedly documentation\n",
        "  \"\"\"\n",
        "  print(\"Hello world\")\n",
        "print_name()\n",
        "\n",
        "def square(x):\n",
        "  return x**2\n",
        "square(5)\n",
        "\n",
        "def product(array):\n",
        "  product = 1\n",
        "  for i in range(array.size):\n",
        "    print(i)\n",
        "    product = product*array[i]\n",
        "  return product\n",
        "my_array=np.array([2,5,7,9])\n",
        "product(my_array)\n",
        "\n",
        "#returning multiple values\n",
        "def squacube(x):\n",
        "  return x**2, x**3\n",
        "squacube(5)\n",
        "\n",
        "#returning multiple values to different variables\n",
        "squa, cube=squacube(5)\n",
        "print(squa)\n",
        "print(cube)\n",
        "\n",
        "#code for factorial\n",
        "def factorial(x):\n",
        "  fact=1\n",
        "  if x==1:\n",
        "    return 1\n",
        "  else:\n",
        "    fact=x*factorial(x-1)\n",
        "  return fact\n",
        "factorial(5)\n",
        "\n",
        "#code for Fibonacci series\n",
        "def fibonacci(seed,n=6):\n",
        "  count=0\n",
        "  while(count<n):\n",
        "    seed.append(seed[-1]+seed[-2])\n",
        "    count=count+1\n",
        "  print(seed)  \n",
        "seed=[1,1]\n",
        "fibonacci(seed)\n",
        "\n",
        "#adding to list elements\n",
        "def add_list(mylist=[1,2]):\n",
        "  mylist[0]=mylist[0]+1\n",
        "  mylist[1]=mylist[1]+1\n",
        "  print(mylist)\n",
        "add_list()\n",
        "add_list()\n",
        "add_list([10,15])\n",
        "\n",
        "#Finding (a+b)^2 and (a+b)^4 using functions within functions\n",
        "def step1(a,b):\n",
        "  return a**2+b**2\n",
        "print(step1(3,2))\n",
        "def step2(a,b):\n",
        "  return step1(a,b)+2*a*b\n",
        "print(step2(3,2))\n",
        "def step3(a,b):\n",
        "  print((step1(a,b)+2*a*b)**2)\n",
        "  return step2(a,b)**2\n",
        "print(step3(3,2))\n",
        "a_list=[step1, step2, step3] #you can make a list of functions too!\n",
        "a_list\n",
        "    "
      ],
      "execution_count": 0,
      "outputs": [
        {
          "output_type": "stream",
          "text": [
            "sin(pi/2) is  1.0\n",
            "Exponential function is  2.718281828459045\n",
            "9.5\n",
            "190\n",
            "Hello world\n",
            "0\n",
            "1\n",
            "2\n",
            "3\n",
            "25\n",
            "125\n",
            "[1, 1, 2, 3, 5, 8, 13, 21]\n",
            "[2, 3]\n",
            "[3, 4]\n",
            "[11, 16]\n",
            "13\n",
            "25\n",
            "625\n",
            "625\n"
          ],
          "name": "stdout"
        },
        {
          "output_type": "execute_result",
          "data": {
            "text/plain": [
              "[<function __main__.step1>,\n",
              " <function __main__.step2>,\n",
              " <function __main__.step3>]"
            ]
          },
          "metadata": {
            "tags": []
          },
          "execution_count": 40
        }
      ]
    }
  ]
}
